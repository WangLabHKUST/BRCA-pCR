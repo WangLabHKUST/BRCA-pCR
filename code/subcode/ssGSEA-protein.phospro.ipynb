{
 "cells": [
  {
   "cell_type": "code",
   "execution_count": 2,
   "id": "f2033b74-ce57-4db6-ad27-7c88caab5dac",
   "metadata": {},
   "outputs": [],
   "source": [
    "import pandas as pd\n",
    "import numpy as np\n",
    "import seaborn as sns\n",
    "import scipy.stats as st\n",
    "import matplotlib.pyplot as plt\n",
    "import warnings\n",
    "warnings.filterwarnings('ignore')"
   ]
  },
  {
   "cell_type": "code",
   "execution_count": 3,
   "id": "2dc524ae-e70b-4a67-be9e-710997c57c99",
   "metadata": {},
   "outputs": [],
   "source": [
    "# transneo_rna = pd.read_csv('../../../data/transneo_tpm.csv', index_col=0) \n",
    "tpm = pd.read_csv('../data/protein.csv', index_col=0) ## \n",
    "import gseapy as gp\n",
    "\n",
    "gene_sets=\"../data/h.all.v2024.1.Hs.symbols.gmt\"\n",
    "\n",
    "ss_ggh = gp.ssgsea(data=(tpm.T+0.01).T.apply(st.zscore).T, #+0.01  .apply(np.log2), #.T.apply(st.zscore).T,\n",
    "               gene_sets=gene_sets,\n",
    "               outdir=None,\n",
    "               min_size=1, max_size=1000,\n",
    "               sample_norm_method='rank', # choose 'custom' for your own rank list\n",
    "               permutation_num=0, # skip permutation procedure, because you don't need it\n",
    "               no_plot=True, # skip plotting, because you don't need these figures\n",
    "               processes=12, format='png', seed=1)\n",
    "\n",
    "## Access Enrichment Score (ES) and NES\n",
    "ss_ggh.res2d = ss_ggh.res2d.pivot(columns='Term',index='Name',values='NES').T.astype(float)\n",
    "ss_ggh.res2d.T.to_csv('../data/ssrna-GGH_Protein-Zscore.csv')"
   ]
  },
  {
   "cell_type": "code",
   "execution_count": 4,
   "id": "3781a452-fe9a-4bcf-8178-7c9e3919c57f",
   "metadata": {},
   "outputs": [],
   "source": [
    "tpm = pd.read_csv('../data/phosphoprotein.csv', index_col=0) \n",
    "import gseapy as gp\n",
    "\n",
    "gene_sets=\"../data/h.all.v2024.1.Hs.symbols.gmt\"\n",
    "\n",
    "ss_ggh = gp.ssgsea(data=(tpm.T+0.01).T.apply(st.zscore).T, #+0.01  .apply(np.log2), #.T.apply(st.zscore).T,\n",
    "               gene_sets=gene_sets,\n",
    "               outdir=None,\n",
    "               min_size=1, max_size=1000,\n",
    "               sample_norm_method='rank', # choose 'custom' for your own rank list\n",
    "               permutation_num=0, # skip permutation procedure, because you don't need it\n",
    "               no_plot=True, # skip plotting, because you don't need these figures\n",
    "               processes=12, format='png', seed=1)\n",
    "\n",
    "## Access Enrichment Score (ES) and NES\n",
    "ss_ggh.res2d = ss_ggh.res2d.pivot(columns='Term',index='Name',values='NES').T.astype(float)\n",
    "ss_ggh.res2d.T.to_csv('../data/ssrna-GGH_phosphoprotein-Zscore.csv')"
   ]
  },
  {
   "cell_type": "code",
   "execution_count": null,
   "id": "3091e587-b3a0-4398-8a85-c78a3d6f8cf3",
   "metadata": {},
   "outputs": [],
   "source": []
  }
 ],
 "metadata": {
  "kernelspec": {
   "display_name": "Python 3",
   "language": "python",
   "name": "python3"
  },
  "language_info": {
   "codemirror_mode": {
    "name": "ipython",
    "version": 3
   },
   "file_extension": ".py",
   "mimetype": "text/x-python",
   "name": "python",
   "nbconvert_exporter": "python",
   "pygments_lexer": "ipython3",
   "version": "3.9.5"
  }
 },
 "nbformat": 4,
 "nbformat_minor": 5
}
