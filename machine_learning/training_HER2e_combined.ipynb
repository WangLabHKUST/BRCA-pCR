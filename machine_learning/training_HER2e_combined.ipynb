{
 "cells": [
  {
   "cell_type": "code",
   "execution_count": 1,
   "metadata": {},
   "outputs": [],
   "source": [
    "import pandas as pd\n",
    "import scipy.stats as st\n",
    "import numpy as np\n",
    "from sklearn.metrics import precision_recall_curve, auc, roc_auc_score, average_precision_score, f1_score\n",
    "from sklearn.model_selection import RepeatedKFold\n",
    "import lightgbm as lgb\n",
    "import seaborn as sns\n",
    "import matplotlib.pyplot as plt\n",
    "import warnings\n",
    "import ssl\n",
    "\n",
    "warnings.filterwarnings('ignore')\n",
    "ssl._create_default_https_context = ssl._create_unverified_context"
   ]
  },
  {
   "cell_type": "markdown",
   "metadata": {},
   "source": [
    "Load ER+ samples:"
   ]
  },
  {
   "cell_type": "code",
   "execution_count": 2,
   "metadata": {},
   "outputs": [],
   "source": [
    "pinfo = pd.read_csv('../../masked/patients_info.csv', index_col=0).sort_index()\n",
    "\n",
    "pinfo['T'] = pinfo['T']>'T2'\n",
    "pinfo['N'] = pinfo['N']>'N0'\n",
    "\n",
    "meth = pd.read_csv('../../masked/meth.csv', index_col=0)\n",
    "rna = (pd.read_csv('../../masked/rna.csv', index_col=0)+0.01).applymap(np.log2)\n",
    "ssrna = pd.read_csv('../../masked/ssrna.csv', index_col=0)\n",
    "dia = pd.read_csv('../../masked/dia.csv', index_col=0)\n",
    "pp = pd.read_csv('../../masked/pp.csv', index_col=0)\n",
    "\n",
    "df_her2e = pinfo.loc[(pinfo['ER_Status']=='Neg')&(pinfo['HER2_Status']=='Pos')]\n",
    "\n",
    "df_her2e['ERBB2_rna'] = st.zscore(df_her2e.index.map(rna['ERBB2']), nan_policy='omit')\n",
    "df_her2e['HM_KRASDN_rna'] = st.zscore(df_her2e.index.map(ssrna['HALLMARK_KRAS_SIGNALING_DN']), nan_policy='omit')\n",
    "df_her2e['ERBB2_dia'] = st.zscore(df_her2e.index.map(dia['ERBB2']), nan_policy='omit')\n",
    "df_her2e['global'] = st.zscore(df_her2e.index.map(meth['Global']), nan_policy='omit')\n",
    "\n",
    "df_her2e = df_her2e[['pCR','T','N','global','HM_KRASDN_rna']].astype(float)"
   ]
  },
  {
   "cell_type": "code",
   "execution_count": 3,
   "metadata": {},
   "outputs": [],
   "source": [
    "df_transneo = pd.read_csv('./results/transneo_clin_her2e.PN.prediction.csv', index_col=0)\n",
    "df_transneo['pCR'] = df_transneo.index.map(pd.read_csv('./data/transneo_clin_her2e.csv', index_col=0)['resp.pCR'])"
   ]
  },
  {
   "cell_type": "code",
   "execution_count": 4,
   "metadata": {},
   "outputs": [],
   "source": [
    "df_tcga = pd.read_csv('./results/tcga_clin_her2e.PN.prediction.csv', index_col=0)"
   ]
  },
  {
   "cell_type": "code",
   "execution_count": 5,
   "metadata": {},
   "outputs": [],
   "source": [
    "df_train = df_her2e.copy()"
   ]
  },
  {
   "cell_type": "markdown",
   "metadata": {},
   "source": [
    "100-repeated 5-fold cross-validation:"
   ]
  },
  {
   "cell_type": "code",
   "execution_count": 6,
   "metadata": {},
   "outputs": [],
   "source": [
    "kf = RepeatedKFold(n_splits=5, n_repeats=100, random_state=1)\n",
    "\n",
    "fs = {}\n",
    "fs['clin'] = 'T\tN'.split('\\t')\n",
    "fs['omics'] = 'T\tN\tHM_KRASDN_rna'.split('\\t')\n",
    "fs['single.rna'] = 'HM_KRASDN_rna'.split('\\t')\n",
    "\n",
    "\n",
    "aucs = {}\n",
    "aps = {}\n",
    "for n_est in [50,100,200]:\n",
    "    for l_rate in [0.05,0.1,0.2]:\n",
    "        aucs[(n_est, l_rate)] = {}\n",
    "        aps[(n_est, l_rate)] = {}\n",
    "        for f in fs.keys():\n",
    "            aucs[(n_est, l_rate)][f] = []\n",
    "            aps[(n_est, l_rate)][f] = []\n",
    "    \n",
    "for n_est in [50,100,200]:\n",
    "    for l_rate in [0.05,0.1,0.2]:\n",
    "        for train_index, test_index in kf.split(df_train):\n",
    "            X_train, X_test = df_train.drop(columns='pCR').iloc[list(train_index)], df_train.drop(columns='pCR').iloc[list(test_index)]\n",
    "            y_train, y_test = df_train['pCR'].iloc[list(train_index)], df_train['pCR'].iloc[list(test_index)]\n",
    "            if y_train.unique().shape[0]==2 and y_test.unique().shape[0]==2:\n",
    "                for f in fs.keys():\n",
    "                    model = lgb.LGBMClassifier(random_state=1, n_estimators=n_est, learning_rate=l_rate, min_child_samples=5)\n",
    "                    model.fit(X_train[fs[f]], y_train)\n",
    "                    X_test[f] = [i[1] for i in model.predict_proba(X_test[fs[f]])]\n",
    "                    aucs[(n_est, l_rate)][f].append(roc_auc_score(y_test,X_test[f]))\n",
    "                    aps[(n_est, l_rate)][f].append(average_precision_score(y_test,X_test[f]))\n",
    "                \n",
    "def best_params(res, fs):\n",
    "    best_pdict = {}\n",
    "    for i in fs:\n",
    "        best_pdict[i] = pd.DataFrame(res).applymap(sum).T.sort_values(i).index[-1]\n",
    "    return pd.concat([pd.DataFrame(res[best_pdict[i]]).melt().loc[pd.DataFrame(res[best_pdict[i]]).melt()['variable']==i] for i in fs])"
   ]
  },
  {
   "cell_type": "markdown",
   "metadata": {},
   "source": [
    "Compare clinical model and multi-omics model:"
   ]
  },
  {
   "cell_type": "code",
   "execution_count": 7,
   "metadata": {},
   "outputs": [
    {
     "name": "stdout",
     "output_type": "stream",
     "text": [
      "Best params for clin model:\n",
      "# of trees: 50 \n",
      "Learning rate: 0.05\n",
      "0.6845065369897958\n",
      "\n",
      "Best params for omics model:\n",
      "# of trees: 50 \n",
      "Learning rate: 0.05\n",
      "0.7156741602891156\n",
      "\n",
      "Best params for single.rna model:\n",
      "# of trees: 200 \n",
      "Learning rate: 0.2\n",
      "0.6274298912273243\n",
      "\n",
      "\n",
      "Best params for clin model:\n",
      "# of trees: 50 \n",
      "Learning rate: 0.05\n",
      "0.8475907029478459\n",
      "\n",
      "Best params for omics model:\n",
      "# of trees: 50 \n",
      "Learning rate: 0.05\n",
      "0.8867934964164237\n",
      "\n",
      "Best params for single.rna model:\n",
      "# of trees: 200 \n",
      "Learning rate: 0.2\n",
      "0.8483247666626175\n",
      "\n",
      "\n",
      "winner vs runnerup:\n",
      "RanksumsResult(statistic=-5.333535277689542, pvalue=9.631884002146528e-08)\n",
      "(0.6845065369897958, 0.7156741602891156)\n",
      "winner vs runnerup:\n",
      "RanksumsResult(statistic=-5.276349225265202, pvalue=1.317828427164982e-07)\n",
      "(0.8483247666626175, 0.8867934964164237)\n"
     ]
    },
    {
     "data": {
      "image/png": "[encoded data removed]",
      "text/plain": [
       "<Figure size 243x216 with 1 Axes>"
      ]
     },
     "metadata": {
      "needs_background": "light"
     },
     "output_type": "display_data"
    },
    {
     "data": {
      "image/png": "[encoded data removed]",
      "text/plain": [
       "<Figure size 243x216 with 1 Axes>"
      ]
     },
     "metadata": {
      "needs_background": "light"
     },
     "output_type": "display_data"
    }
   ],
   "source": [
    "for m in [aucs, aps]:\n",
    "    for i in fs.keys():\n",
    "        print('Best params for '+i+' model:')\n",
    "        print('# of trees:',pd.DataFrame(m).applymap(sum).T[i].idxmax()[0], '\\nLearning rate:',pd.DataFrame(m).applymap(sum).T[i].idxmax()[1])\n",
    "        df = best_params(m, [i,])\n",
    "        print(df[df['variable']==i]['value'].mean())\n",
    "        print()\n",
    "    print()\n",
    "\n",
    "res_dict = {\n",
    "    'aucs':aucs,\n",
    "    'aps':aps,\n",
    "}\n",
    "\n",
    "for resi in res_dict.keys():\n",
    "    res = res_dict[resi]\n",
    "    winner = best_params(res, ['clin','single.rna','omics']).groupby('variable').mean().sort_values('value').index[-1]\n",
    "    runnerup = best_params(res, ['clin','single.rna','omics']).groupby('variable').mean().sort_values('value').index[-2]\n",
    "    df = best_params(res, [runnerup,winner,])\n",
    "    \n",
    "    f, ax = plt.subplots(figsize=[1.35*2.5,3])\n",
    "    df = best_params(res, ['clin','single.rna','omics'])\n",
    "    sns.boxplot(df['variable'], df['value'], color='#ffffff', width=0.75, showmeans=1)\n",
    "    ax.spines['right'].set_visible(False)\n",
    "    ax.spines['top'].set_visible(False)\n",
    "    plt.ylim([0.5,1.02])\n",
    "    plt.ylabel(resi)\n",
    "    plt.savefig('../figures/training_cv_'+resi+'_her2e_combined.pdf', bbox_inches='tight')\n",
    "\n",
    "    print('winner vs runnerup:')\n",
    "    print(st.ranksums(df[df['variable']==runnerup]['value'], df[df['variable']==winner]['value']))\n",
    "    print((df[df['variable']==runnerup]['value'].mean(), df[df['variable']==winner]['value'].mean()))"
   ]
  },
  {
   "cell_type": "markdown",
   "metadata": {},
   "source": [
    "Retrain the optimized model using all samples and explain the model using SHAP:"
   ]
  },
  {
   "cell_type": "code",
   "execution_count": 8,
   "metadata": {},
   "outputs": [
    {
     "data": {
      "image/png": "[encoded data removed]",
      "text/plain": [
       "<Figure size 144x144 with 2 Axes>"
      ]
     },
     "metadata": {
      "needs_background": "light"
     },
     "output_type": "display_data"
    }
   ],
   "source": [
    "import shap\n",
    "model = lgb.LGBMClassifier(random_state=1, \\\n",
    "                           n_estimators=pd.DataFrame(aucs).applymap(sum).T['omics'].idxmax()[0], \\\n",
    "                           learning_rate=pd.DataFrame(aucs).applymap(sum).T['omics'].idxmax()[1], \\\n",
    "                           min_child_samples=5)\n",
    "model.fit(df_train[fs['omics']], df_train['pCR'])\n",
    "\n",
    "model.booster_.save_model('./models/Her2E.model')\n",
    "model = lgb.Booster(model_file='./models/Her2E.model')\n",
    "model.params['objective'] = 'binary'\n",
    "\n",
    "explainer = shap.TreeExplainer(model)\n",
    "\n",
    "shap_values = explainer.shap_values(df_train[fs['omics']])\n",
    "plt.gca()\n",
    "plt.xlim([-2.75,2.75])\n",
    "shap.summary_plot(shap_values[1], df_train[fs['omics']], plot_size=[2,2], show=False, plot_type=\"dot\")\n",
    "# plt.savefig('../figures/shap_her2e_combined.pdf', bbox_inches='tight')"
   ]
  },
  {
   "cell_type": "markdown",
   "metadata": {},
   "source": [
    "Retrain the optimized model combining TransNEO:"
   ]
  },
  {
   "cell_type": "code",
   "execution_count": 9,
   "metadata": {},
   "outputs": [],
   "source": [
    "df_train = pd.concat([df_her2e, df_transneo])"
   ]
  },
  {
   "cell_type": "code",
   "execution_count": 10,
   "metadata": {},
   "outputs": [],
   "source": [
    "kf = RepeatedKFold(n_splits=5, n_repeats=100, random_state=1)\n",
    "\n",
    "fs = {}\n",
    "fs['clin'] = 'T\tN'.split('\\t')\n",
    "fs['omics'] = 'T\tN\tHM_KRASDN_rna'.split('\\t')\n",
    "fs['single.rna'] = 'HM_KRASDN_rna'.split('\\t')\n",
    "\n",
    "\n",
    "aucs = {}\n",
    "aps = {}\n",
    "for n_est in [50,100,200]:\n",
    "    for l_rate in [0.05,0.1,0.2]:\n",
    "        aucs[(n_est, l_rate)] = {}\n",
    "        aps[(n_est, l_rate)] = {}\n",
    "        for f in fs.keys():\n",
    "            aucs[(n_est, l_rate)][f] = []\n",
    "            aps[(n_est, l_rate)][f] = []\n",
    "    \n",
    "for n_est in [50,100,200]:\n",
    "    for l_rate in [0.05,0.1,0.2]:\n",
    "        for train_index, test_index in kf.split(df_train):\n",
    "            X_train, X_test = df_train.drop(columns='pCR').iloc[list(train_index)], df_train.drop(columns='pCR').iloc[list(test_index)]\n",
    "            y_train, y_test = df_train['pCR'].iloc[list(train_index)], df_train['pCR'].iloc[list(test_index)]\n",
    "            if y_train.unique().shape[0]==2 and y_test.unique().shape[0]==2:\n",
    "                for f in fs.keys():\n",
    "                    model = lgb.LGBMClassifier(random_state=1, n_estimators=n_est, learning_rate=l_rate, min_child_samples=5)\n",
    "                    model.fit(X_train[fs[f]], y_train)\n",
    "                    X_test[f] = [i[1] for i in model.predict_proba(X_test[fs[f]])]\n",
    "                    aucs[(n_est, l_rate)][f].append(roc_auc_score(y_test,X_test[f]))\n",
    "                    aps[(n_est, l_rate)][f].append(average_precision_score(y_test,X_test[f]))\n",
    "                \n",
    "def best_params(res, fs):\n",
    "    best_pdict = {}\n",
    "    for i in fs:\n",
    "        best_pdict[i] = pd.DataFrame(res).applymap(sum).T.sort_values(i).index[-1]\n",
    "    return pd.concat([pd.DataFrame(res[best_pdict[i]]).melt().loc[pd.DataFrame(res[best_pdict[i]]).melt()['variable']==i] for i in fs])"
   ]
  },
  {
   "cell_type": "code",
   "execution_count": 11,
   "metadata": {},
   "outputs": [],
   "source": [
    "model = lgb.LGBMClassifier(random_state=1, \\\n",
    "                           n_estimators=pd.DataFrame(aucs).applymap(sum).T['omics'].idxmax()[0], \\\n",
    "                           learning_rate=pd.DataFrame(aucs).applymap(sum).T['omics'].idxmax()[1], \\\n",
    "                           min_child_samples=5)\n",
    "model.fit(df_train[fs['omics']], df_train['pCR'])\n",
    "\n",
    "model.booster_.save_model('./models/Her2E.model')\n",
    "model = lgb.Booster(model_file='./models/Her2E.model')\n",
    "model.params['objective'] = 'binary'"
   ]
  },
  {
   "cell_type": "code",
   "execution_count": 12,
   "metadata": {},
   "outputs": [
    {
     "name": "stdout",
     "output_type": "stream",
     "text": [
      "Updated threshold: 30%\tP value = 0.7016390488892632\n",
      "Updated threshold: 40%\tP value = 0.3492696502526219\n",
      "Updated threshold: 80%\tP value = 0.05594105150162409\n",
      "# of pCR cases 18\n",
      "# of RD cases 22\n"
     ]
    },
    {
     "data": {
      "text/html": [
       "<div>\n",
       "<style scoped>\n",
       "    .dataframe tbody tr th:only-of-type {\n",
       "        vertical-align: middle;\n",
       "    }\n",
       "\n",
       "    .dataframe tbody tr th {\n",
       "        vertical-align: top;\n",
       "    }\n",
       "\n",
       "    .dataframe thead th {\n",
       "        text-align: right;\n",
       "    }\n",
       "</style>\n",
       "<table border=\"1\" class=\"dataframe\">\n",
       "  <tbody>\n",
       "    <tr>\n",
       "      <th>t_0</th>\n",
       "      <td>-1</td>\n",
       "    </tr>\n",
       "    <tr>\n",
       "      <th>null_distribution</th>\n",
       "      <td>chi squared</td>\n",
       "    </tr>\n",
       "    <tr>\n",
       "      <th>degrees_of_freedom</th>\n",
       "      <td>1</td>\n",
       "    </tr>\n",
       "    <tr>\n",
       "      <th>test_name</th>\n",
       "      <td>logrank_test</td>\n",
       "    </tr>\n",
       "  </tbody>\n",
       "</table>\n",
       "</div><table border=\"1\" class=\"dataframe\">\n",
       "  <thead>\n",
       "    <tr style=\"text-align: right;\">\n",
       "      <th></th>\n",
       "      <th>test_statistic</th>\n",
       "      <th>p</th>\n",
       "      <th>-log2(p)</th>\n",
       "    </tr>\n",
       "  </thead>\n",
       "  <tbody>\n",
       "    <tr>\n",
       "      <th>0</th>\n",
       "      <td>3.65</td>\n",
       "      <td>0.06</td>\n",
       "      <td>4.16</td>\n",
       "    </tr>\n",
       "  </tbody>\n",
       "</table>"
      ],
      "text/latex": [
       "\\begin{tabular}{lrrr}\n",
       "\\toprule\n",
       "{} &  test\\_statistic &         p &  -log2(p) \\\\\n",
       "\\midrule\n",
       "0 &        3.653812 &  0.055941 &  4.159949 \\\\\n",
       "\\bottomrule\n",
       "\\end{tabular}\n"
      ],
      "text/plain": [
       "<lifelines.StatisticalResult: logrank_test>\n",
       "               t_0 = -1\n",
       " null_distribution = chi squared\n",
       "degrees_of_freedom = 1\n",
       "         test_name = logrank_test\n",
       "\n",
       "---\n",
       " test_statistic    p  -log2(p)\n",
       "           3.65 0.06      4.16"
      ]
     },
     "metadata": {},
     "output_type": "display_data"
    },
    {
     "data": {
      "image/png": "[encoded data removed]",
      "text/plain": [
       "<Figure size 216x144 with 1 Axes>"
      ]
     },
     "metadata": {
      "needs_background": "light"
     },
     "output_type": "display_data"
    }
   ],
   "source": [
    "f = 'Pr'\n",
    "df_tcga = df_tcga.dropna(subset=['MONTHS','STATUS'])\n",
    "df_tcga[f] = model.predict(df_tcga[fs['omics']])\n",
    "\n",
    "from lifelines import KaplanMeierFitter\n",
    "kmf = KaplanMeierFitter()\n",
    "from lifelines.statistics import logrank_test\n",
    "\n",
    "def find_best_cutoff_dfs(df,y):\n",
    "    from lifelines import KaplanMeierFitter\n",
    "    kmf = KaplanMeierFitter()\n",
    "    from lifelines.statistics import logrank_test\n",
    "    cutoff = y.median()\n",
    "    best_p = 1\n",
    "    for ii in range(1,10):\n",
    "        i = 0.1*ii\n",
    "        tmp_high = df.loc[df[f]>=i,]\n",
    "        tmp_low = df.loc[df[f]<i,]\n",
    "        test = logrank_test(tmp_high['MONTHS'].astype(float), \\\n",
    "                               tmp_low['MONTHS'].astype(float), \\\n",
    "                               event_observed_A=tmp_high['STATUS'], \\\n",
    "                               event_observed_B=tmp_low['STATUS'])\n",
    "        if test.p_value < best_p:\n",
    "            print('Updated threshold: '+str(int(i*100))+'%\\tP value =', test.p_value)\n",
    "            best_p = test.p_value\n",
    "            cutoff = i\n",
    "            \n",
    "    return cutoff\n",
    "\n",
    "best_cutoff = find_best_cutoff_dfs(df_tcga,df_tcga[f])\n",
    "\n",
    "tmp_high = df_tcga.loc[df_tcga[f]>=best_cutoff,]\n",
    "tmp_low = df_tcga.loc[df_tcga[f]<best_cutoff,]\n",
    "\n",
    "\n",
    "label_size = 15\n",
    "plt.rcParams['font.family'] = 'arial'\n",
    "plt.rcParams['xtick.labelsize'] = label_size \n",
    "plt.rcParams['ytick.labelsize'] = label_size\n",
    "fig, ax = plt.subplots(figsize=[3,2])\n",
    "\n",
    "kmf.fit(tmp_high['MONTHS'], \\\n",
    "        event_observed=tmp_high['STATUS'], \\\n",
    "        label='High')\n",
    "kmf.plot(ax=ax, linewidth=2, color='lightblue', ci_show=False, show_censors=True)\n",
    "\n",
    "kmf.fit(tmp_low['MONTHS'], \\\n",
    "        event_observed=tmp_low['STATUS'], \\\n",
    "        label='Low')\n",
    "kmf.plot(ax=ax, linewidth=2, color='#ff7878', ci_show=False, show_censors=True)\n",
    "\n",
    "print('# of pCR cases',tmp_high.shape[0])\n",
    "print('# of RD cases',tmp_low.shape[0])\n",
    "\n",
    "ax.spines['right'].set_visible(False)\n",
    "ax.spines['top'].set_visible(False)\n",
    "ax.get_legend().remove()\n",
    "plt.xlabel('Months', fontsize=label_size)\n",
    "plt.ylabel('Probability', fontsize=label_size)\n",
    "\n",
    "plt.yticks([0.5,0.75,1])\n",
    "plt.ylim([0.45,1.05])\n",
    "plt.xticks([0,60,120])\n",
    "plt.xlim([-5,125])\n",
    "\n",
    "results = logrank_test(tmp_high['MONTHS'].astype(float), \\\n",
    "                       tmp_low['MONTHS'].astype(float), \\\n",
    "                       event_observed_A=tmp_high['STATUS'], \\\n",
    "                       event_observed_B=tmp_low['STATUS'])\n",
    "results.print_summary()\n",
    "plt.savefig('../figures/tcga_her2e_combined.pdf', bbox_inches='tight')"
   ]
  },
  {
   "cell_type": "code",
   "execution_count": 13,
   "metadata": {},
   "outputs": [
    {
     "name": "stdout",
     "output_type": "stream",
     "text": [
      "dash 0.653061224489796\n",
      "0.7551020408163265\n",
      "dash 0.6927132391418105\n",
      "0.8150535971964543\n"
     ]
    },
    {
     "data": {
      "image/png": "[encoded data removed]",
      "text/plain": [
       "<Figure size 216x216 with 1 Axes>"
      ]
     },
     "metadata": {
      "needs_background": "light"
     },
     "output_type": "display_data"
    },
    {
     "data": {
      "image/png": "[encoded data removed]",
      "text/plain": [
       "<Figure size 216x216 with 1 Axes>"
      ]
     },
     "metadata": {
      "needs_background": "light"
     },
     "output_type": "display_data"
    }
   ],
   "source": [
    "from sklearn import metrics\n",
    "f, ax = plt.subplots(figsize=[3,3])\n",
    "fpr, tpr, threshold = metrics.roc_curve(df_transneo['pCR'],df_transneo.index.map(pd.read_csv('https://github.com/cclab-brca/neoadjuvant-therapy-response-predictor\\\n",
    "/raw/master/data/transneo-diagnosis-MLscores.tsv.gz',sep='\\t', index_col=0)['Integrated model']))\n",
    "roc_auc = metrics.auc(fpr, tpr)\n",
    "plt.plot(fpr, tpr, label = 'AUC = %0.2f' % roc_auc, linestyle='dotted', linewidth=3, color='darkgray')\n",
    "print('dash', roc_auc)\n",
    "fpr, tpr, threshold = metrics.roc_curve(df_transneo['pCR'],model.predict(df_transneo[fs['omics']]),)\n",
    "roc_auc = metrics.auc(fpr, tpr)\n",
    "plt.plot(fpr, tpr, label = 'AUC = %0.2f' % roc_auc, linewidth=3, color='gray')\n",
    "print(roc_auc)\n",
    "ax.spines['right'].set_visible(False)\n",
    "ax.spines['top'].set_visible(False)\n",
    "\n",
    "# plt.legend()\n",
    "plt.xlabel('FPR')\n",
    "plt.ylabel('TPR')\n",
    "plt.yticks([0,0.5,1])\n",
    "plt.xticks([0,0.5,1])\n",
    "\n",
    "plt.savefig('../figures/transneo_her2e_combined.roc.pdf', bbox_inches='tight')\n",
    "\n",
    "f, ax = plt.subplots(figsize=[3,3])\n",
    "p, r, threshold = metrics.precision_recall_curve(df_transneo['pCR'],df_transneo.index.map(pd.read_csv('https://github.com/cclab-brca/neoadjuvant-therapy-response-predictor\\\n",
    "/raw/master/data/transneo-diagnosis-MLscores.tsv.gz',sep='\\t', index_col=0)['Integrated model']))\n",
    "prc_auc = metrics.auc(r, p)\n",
    "plt.plot(r, p,  linestyle='dotted', linewidth=3, color='darkgray')\n",
    "print('dash', prc_auc)\n",
    "p, r, threshold = metrics.precision_recall_curve(df_transneo['pCR'],model.predict(df_transneo[fs['omics']]),)\n",
    "prc_auc = metrics.auc(r, p)\n",
    "print(prc_auc)\n",
    "plt.plot(r, p,  linewidth=3, color='gray')\n",
    "\n",
    "ax.spines['right'].set_visible(False)\n",
    "ax.spines['top'].set_visible(False)\n",
    "\n",
    "# plt.legend()\n",
    "plt.xlabel('Recall')\n",
    "plt.ylim([-.05,1.05])\n",
    "plt.yticks([0,0.5,1])\n",
    "plt.xticks([0,0.5,1])\n",
    "plt.ylabel('Precision')\n",
    "plt.savefig('../figures/transneo_her2e_combined.prc.pdf', bbox_inches='tight')"
   ]
  }
 ],
 "metadata": {
  "kernelspec": {
   "display_name": "Python 3",
   "language": "python",
   "name": "python3"
  },
  "language_info": {
   "codemirror_mode": {
    "name": "ipython",
    "version": 3
   },
   "file_extension": ".py",
   "mimetype": "text/x-python",
   "name": "python",
   "nbconvert_exporter": "python",
   "pygments_lexer": "ipython3",
   "version": "3.7.9"
  }
 },
 "nbformat": 4,
 "nbformat_minor": 4
}
