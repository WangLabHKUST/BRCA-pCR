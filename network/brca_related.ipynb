{
 "cells": [
  {
   "cell_type": "code",
   "execution_count": 1,
   "metadata": {},
   "outputs": [],
   "source": [
    "import pandas as pd"
   ]
  },
  {
   "cell_type": "code",
   "execution_count": 2,
   "metadata": {},
   "outputs": [],
   "source": [
    "KEGG = [j for i in pd.read_table('../../../bionetwork/kegg.H00031.txt', header=None)[0] for j in i.split(', ') ]"
   ]
  },
  {
   "cell_type": "code",
   "execution_count": 3,
   "metadata": {},
   "outputs": [],
   "source": [
    "Malacards = list(pd.read_table('../../../bionetwork/Malacards_BRCA.txt', skiprows=3, header=None)[0])"
   ]
  },
  {
   "cell_type": "code",
   "execution_count": 4,
   "metadata": {},
   "outputs": [],
   "source": [
    "RegNetwork = pd.read_csv('../../../bionetwork/RegNetwork_human_exp_high.csv')"
   ]
  },
  {
   "cell_type": "code",
   "execution_count": 5,
   "metadata": {},
   "outputs": [
    {
     "data": {
      "text/plain": [
       "0.5"
      ]
     },
     "execution_count": 5,
     "metadata": {},
     "output_type": "execute_result"
    }
   ],
   "source": [
    "STRING = pd.read_table('../../../bionetwork/9606.protein.links.full.v11.5.txt', sep=' ')\n",
    "gname_dict = pd.read_table('../../../bionetwork/9606.protein.info.v11.5.txt', index_col=0)['preferred_name'].to_dict()\n",
    "STRING['protein1'] = STRING['protein1'].map(gname_dict)\n",
    "STRING['protein2'] = STRING['protein2'].map(gname_dict)\n",
    "STRING = STRING[STRING['experiments']>700]\n",
    "STRING['protein12'] = STRING.apply(lambda x:''.join(sorted(set([x['protein1'],x['protein2']]))), axis=1)\n",
    "STRING.drop(columns=['protein1','protein2']).duplicated().mean()"
   ]
  },
  {
   "cell_type": "code",
   "execution_count": 6,
   "metadata": {},
   "outputs": [
    {
     "data": {
      "text/plain": [
       "(112, 82, 187)"
      ]
     },
     "execution_count": 6,
     "metadata": {},
     "output_type": "execute_result"
    }
   ],
   "source": [
    "core_genes = sorted(set(KEGG+Malacards))\n",
    "len(KEGG), len(Malacards), len(core_genes)"
   ]
  },
  {
   "cell_type": "code",
   "execution_count": 7,
   "metadata": {},
   "outputs": [],
   "source": [
    "RegNetwork = RegNetwork.loc[RegNetwork['target_symbol'].isin(core_genes)|RegNetwork['regulator_symbol'].isin(core_genes)]['regulator_symbol\ttarget_symbol'.split('\\t')]\n",
    "RegNetwork['database'] = 'RegNetwork'\n",
    "RegNetwork = RegNetwork.rename(columns={'regulator_symbol':'source','target_symbol':'target'})"
   ]
  },
  {
   "cell_type": "code",
   "execution_count": 8,
   "metadata": {},
   "outputs": [],
   "source": [
    "STRING = STRING.loc[STRING['protein1'].isin(core_genes)]['protein1\tprotein2\tprotein12'.split('\\t')]\n",
    "STRING = STRING.loc[~STRING['protein12'].duplicated()]\n",
    "STRING = STRING.rename(columns={'protein1':'source','protein2':'target'}).drop(columns=['protein12'])\n",
    "STRING['database'] = 'STRING'"
   ]
  },
  {
   "cell_type": "code",
   "execution_count": 9,
   "metadata": {},
   "outputs": [],
   "source": [
    "network = pd.concat([RegNetwork, STRING])\n",
    "network.to_csv('BRCA_related.genes.csv', index=False)"
   ]
  },
  {
   "cell_type": "code",
   "execution_count": 10,
   "metadata": {},
   "outputs": [
    {
     "data": {
      "text/plain": [
       "871"
      ]
     },
     "execution_count": 10,
     "metadata": {},
     "output_type": "execute_result"
    }
   ],
   "source": [
    "len(set(list(network['source']) + list(network['target'])))"
   ]
  }
 ],
 "metadata": {
  "kernelspec": {
   "display_name": "Python 3",
   "language": "python",
   "name": "python3"
  },
  "language_info": {
   "codemirror_mode": {
    "name": "ipython",
    "version": 3
   },
   "file_extension": ".py",
   "mimetype": "text/x-python",
   "name": "python",
   "nbconvert_exporter": "python",
   "pygments_lexer": "ipython3",
   "version": "3.7.9"
  }
 },
 "nbformat": 4,
 "nbformat_minor": 4
}
